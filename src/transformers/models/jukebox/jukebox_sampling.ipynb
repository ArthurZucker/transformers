{
 "cells": [
  {
   "cell_type": "markdown",
   "metadata": {},
   "source": [
    "# Music generation with HF's Jukebox model \n",
    "For now the PR has not been merged on the official repo yet, and we have to use Arthur's branch `jukebox`. "
   ]
  },
  {
   "cell_type": "code",
   "execution_count": null,
   "metadata": {},
   "outputs": [],
   "source": [
    "# Install the correct transformer version \n",
    "!git clone --branch=jukebox https://github.com/ArthurZucker/transformers.git\n",
    "%pip install -e \".[dev]\"\n",
    "!sudo apt-get install libsndfile-dev"
   ]
  },
  {
   "cell_type": "markdown",
   "metadata": {},
   "source": [
    "Lets import a few functionnalities and define the metadatas that will be used\n"
   ]
  },
  {
   "cell_type": "code",
   "execution_count": null,
   "metadata": {},
   "outputs": [],
   "source": [
    "from transformers import JukeboxModel , JukeboxTokenizer\n",
    "import time\n",
    "import torch\n",
    "from transformers.models.jukebox.modeling_jukebox import load_prompts\n",
    "metas = dict(\n",
    "    artist=\"The weeknd\",\n",
    "    genres=\"Rap\",\n",
    "    lyrics=\"\"\"I met a traveller from an antique land,\n",
    "Who said \"Two vast and trunkless legs of stone\n",
    "Stand in the desert. . . . Near them, on the sand,\n",
    "Half sunk a shattered visage lies, whose frown,\n",
    "And wrinkled lip, and sneer of cold command,\n",
    "Tell that its sculptor well those passions read\n",
    "Which yet survive, stamped on these lifeless things,\n",
    "The hand that mocked them, and the heart that fed;\n",
    "And on the pedestal, these words appear:\n",
    "My name is Ozymandias, King of Kings;\n",
    "Look on my Works, ye Mighty, and despair!\n",
    "Nothing beside remains. Round the decay\n",
    "Of that colossal Wreck, boundless and bare\n",
    "The lone and level sands stretch far away\n",
    "\"\"\",\n",
    ")"
   ]
  },
  {
   "cell_type": "code",
   "execution_count": null,
   "metadata": {},
   "outputs": [],
   "source": [
    "model_id = \"ArthurZ/jukebox-1b-lyrics\"\n",
    "model = JukeboxModel.from_pretrained(model_id).eval()\n",
    "tokenizer = JukeboxTokenizer.from_pretrained(model_id)\n",
    "tokens = tokenizer(**metas)[\"input_ids\"]"
   ]
  },
  {
   "cell_type": "markdown",
   "metadata": {},
   "source": [
    "Let's start by generating from scratch only using the conditionning on the meta datas."
   ]
  },
  {
   "cell_type": "code",
   "execution_count": null,
   "metadata": {},
   "outputs": [],
   "source": [
    "start = time.time()\n",
    "zs = model.ancestral_sample([i.cuda() for i in tokens], chunk_size=32, sample_length_in_seconds=10, offset = 30)\n",
    "print(\"generation time for length : \",time.time()- start)"
   ]
  },
  {
   "cell_type": "markdown",
   "metadata": {},
   "source": [
    "Now lets load $\\frac{40000}{sampling rate}$ seconds of a random audio and generate a continuation! \n",
    "\n"
   ]
  },
  {
   "cell_type": "code",
   "execution_count": null,
   "metadata": {},
   "outputs": [],
   "source": [
    "start = time.time()\n",
    "x = load_prompts([\"prompts/test.wav\"],40000,model.config)\n",
    "zs = model.primed_sample(x.cuda(), [i.cuda() for i in tokens], chunk_size=32, sample_length_in_seconds=60)\n",
    "print(\"generation time for length : \",time.time()- start)"
   ]
  }
 ],
 "metadata": {
  "kernelspec": {
   "display_name": "Python 3.7.12 ('base')",
   "language": "python",
   "name": "python3"
  },
  "language_info": {
   "name": "python",
   "version": "3.7.12"
  },
  "orig_nbformat": 4,
  "vscode": {
   "interpreter": {
    "hash": "d4d1e4263499bec80672ea0156c357c1ee493ec2b1c70f0acce89fc37c4a6abe"
   }
  }
 },
 "nbformat": 4,
 "nbformat_minor": 2
}
